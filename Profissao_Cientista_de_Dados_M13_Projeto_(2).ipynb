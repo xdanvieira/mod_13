{
  "nbformat": 4,
  "nbformat_minor": 0,
  "metadata": {
    "colab": {
      "provenance": [],
      "include_colab_link": true
    },
    "kernelspec": {
      "name": "python3",
      "display_name": "Python 3"
    },
    "language_info": {
      "name": "python"
    }
  },
  "cells": [
    {
      "cell_type": "markdown",
      "metadata": {
        "id": "view-in-github",
        "colab_type": "text"
      },
      "source": [
        "<a href=\"https://colab.research.google.com/github/xdanvieira/mod_13/blob/main/Profissao_Cientista_de_Dados_M13_Projeto_(2).ipynb\" target=\"_parent\"><img src=\"https://colab.research.google.com/assets/colab-badge.svg\" alt=\"Open In Colab\"/></a>"
      ]
    },
    {
      "cell_type": "markdown",
      "source": [
        "# **MÓDULO 13**\n",
        "# Projeto - Fundamentos da Descoberta de Dados"
      ],
      "metadata": {
        "id": "VOTu7U3Mvxzq"
      }
    },
    {
      "cell_type": "markdown",
      "source": [
        "Nesse projeto trabalharemos com a base de dados de produtos de um supermercado do Chile.\n",
        "A ideia é que vocês apliquem os conceitos estatísticos vistos no último módulo, mais os conceitos de visualizações de dados através de gráficos e finalizem publicando no seu github!"
      ],
      "metadata": {
        "id": "-HYgkdAywLd0"
      }
    },
    {
      "cell_type": "code",
      "source": [
        "import pandas as pd\n",
        "import matplotlib.pyplot as plt\n",
        "import plotly.express as px"
      ],
      "metadata": {
        "id": "OTdTnbzUwE2X"
      },
      "execution_count": 6,
      "outputs": []
    },
    {
      "cell_type": "markdown",
      "source": [
        "Faça a leitura dos dados do arquivo CSV:\n",
        "\n",
        "\n",
        "Altere o código abaixo de acordo com seu diretório."
      ],
      "metadata": {
        "id": "ky1Dk_KWywEa"
      }
    },
    {
      "cell_type": "code",
      "source": [
        "df = pd.read_csv(\"/content/drive/My Drive/Colab Notebooks/MODULO7_PROJETOFINAL_BASE_SUPERMERCADO.csv\")\n",
        "\n",
        "df.head(10)"
      ],
      "metadata": {
        "colab": {
          "base_uri": "https://localhost:8080/",
          "height": 450
        },
        "id": "bRBFyVB5wlny",
        "outputId": "f84800f6-86f5-430b-a169-fc8505da4c87",
        "collapsed": true
      },
      "execution_count": 9,
      "outputs": [
        {
          "output_type": "execute_result",
          "data": {
            "text/plain": [
              "                                              title       Marca  Preco_Normal  \\\n",
              "0              Pack 12 un, Leche extra proteína 1 L  Loncoleche         19788   \n",
              "1   Pack 12 un, Leche chocolate receta original 1 L     Soprole         18228   \n",
              "2    Pack 12 un, Leche semidescremada chocolate 1 L     Soprole         18228   \n",
              "3     Pack 12 un, Leche semidescremada frutilla 1 L     Soprole         18228   \n",
              "4       Pack 12 un, Leche sin lactosa chocolate 1 L  Loncoleche         17988   \n",
              "5        Pack 12 un, Leche sin lactosa frutilla 1 L  Loncoleche         17988   \n",
              "6  Pack 12 un, Leche saborizada light chocolate 1 L  Loncoleche         17988   \n",
              "7         Pack 12 un, Leche saborizada frutilla 1 L       Colun         17388   \n",
              "8         Pack 12 un, Leche saborizada vainilla 1 L       Colun         17388   \n",
              "9           Pack 12 un, Leche saborizada manjar 1 L       Colun         17388   \n",
              "\n",
              "   Preco_Desconto  Preco_Anterior  Desconto Categoria  \n",
              "0               0               0         0   lacteos  \n",
              "1               0               0         0   lacteos  \n",
              "2               0               0         0   lacteos  \n",
              "3               0               0         0   lacteos  \n",
              "4               0               0         0   lacteos  \n",
              "5               0               0         0   lacteos  \n",
              "6               0               0         0   lacteos  \n",
              "7               0               0         0   lacteos  \n",
              "8               0               0         0   lacteos  \n",
              "9               0               0         0   lacteos  "
            ],
            "text/html": [
              "\n",
              "  <div id=\"df-e9db5899-257a-4187-83e8-1429ba786df1\" class=\"colab-df-container\">\n",
              "    <div>\n",
              "<style scoped>\n",
              "    .dataframe tbody tr th:only-of-type {\n",
              "        vertical-align: middle;\n",
              "    }\n",
              "\n",
              "    .dataframe tbody tr th {\n",
              "        vertical-align: top;\n",
              "    }\n",
              "\n",
              "    .dataframe thead th {\n",
              "        text-align: right;\n",
              "    }\n",
              "</style>\n",
              "<table border=\"1\" class=\"dataframe\">\n",
              "  <thead>\n",
              "    <tr style=\"text-align: right;\">\n",
              "      <th></th>\n",
              "      <th>title</th>\n",
              "      <th>Marca</th>\n",
              "      <th>Preco_Normal</th>\n",
              "      <th>Preco_Desconto</th>\n",
              "      <th>Preco_Anterior</th>\n",
              "      <th>Desconto</th>\n",
              "      <th>Categoria</th>\n",
              "    </tr>\n",
              "  </thead>\n",
              "  <tbody>\n",
              "    <tr>\n",
              "      <th>0</th>\n",
              "      <td>Pack 12 un, Leche extra proteína 1 L</td>\n",
              "      <td>Loncoleche</td>\n",
              "      <td>19788</td>\n",
              "      <td>0</td>\n",
              "      <td>0</td>\n",
              "      <td>0</td>\n",
              "      <td>lacteos</td>\n",
              "    </tr>\n",
              "    <tr>\n",
              "      <th>1</th>\n",
              "      <td>Pack 12 un, Leche chocolate receta original 1 L</td>\n",
              "      <td>Soprole</td>\n",
              "      <td>18228</td>\n",
              "      <td>0</td>\n",
              "      <td>0</td>\n",
              "      <td>0</td>\n",
              "      <td>lacteos</td>\n",
              "    </tr>\n",
              "    <tr>\n",
              "      <th>2</th>\n",
              "      <td>Pack 12 un, Leche semidescremada chocolate 1 L</td>\n",
              "      <td>Soprole</td>\n",
              "      <td>18228</td>\n",
              "      <td>0</td>\n",
              "      <td>0</td>\n",
              "      <td>0</td>\n",
              "      <td>lacteos</td>\n",
              "    </tr>\n",
              "    <tr>\n",
              "      <th>3</th>\n",
              "      <td>Pack 12 un, Leche semidescremada frutilla 1 L</td>\n",
              "      <td>Soprole</td>\n",
              "      <td>18228</td>\n",
              "      <td>0</td>\n",
              "      <td>0</td>\n",
              "      <td>0</td>\n",
              "      <td>lacteos</td>\n",
              "    </tr>\n",
              "    <tr>\n",
              "      <th>4</th>\n",
              "      <td>Pack 12 un, Leche sin lactosa chocolate 1 L</td>\n",
              "      <td>Loncoleche</td>\n",
              "      <td>17988</td>\n",
              "      <td>0</td>\n",
              "      <td>0</td>\n",
              "      <td>0</td>\n",
              "      <td>lacteos</td>\n",
              "    </tr>\n",
              "    <tr>\n",
              "      <th>5</th>\n",
              "      <td>Pack 12 un, Leche sin lactosa frutilla 1 L</td>\n",
              "      <td>Loncoleche</td>\n",
              "      <td>17988</td>\n",
              "      <td>0</td>\n",
              "      <td>0</td>\n",
              "      <td>0</td>\n",
              "      <td>lacteos</td>\n",
              "    </tr>\n",
              "    <tr>\n",
              "      <th>6</th>\n",
              "      <td>Pack 12 un, Leche saborizada light chocolate 1 L</td>\n",
              "      <td>Loncoleche</td>\n",
              "      <td>17988</td>\n",
              "      <td>0</td>\n",
              "      <td>0</td>\n",
              "      <td>0</td>\n",
              "      <td>lacteos</td>\n",
              "    </tr>\n",
              "    <tr>\n",
              "      <th>7</th>\n",
              "      <td>Pack 12 un, Leche saborizada frutilla 1 L</td>\n",
              "      <td>Colun</td>\n",
              "      <td>17388</td>\n",
              "      <td>0</td>\n",
              "      <td>0</td>\n",
              "      <td>0</td>\n",
              "      <td>lacteos</td>\n",
              "    </tr>\n",
              "    <tr>\n",
              "      <th>8</th>\n",
              "      <td>Pack 12 un, Leche saborizada vainilla 1 L</td>\n",
              "      <td>Colun</td>\n",
              "      <td>17388</td>\n",
              "      <td>0</td>\n",
              "      <td>0</td>\n",
              "      <td>0</td>\n",
              "      <td>lacteos</td>\n",
              "    </tr>\n",
              "    <tr>\n",
              "      <th>9</th>\n",
              "      <td>Pack 12 un, Leche saborizada manjar 1 L</td>\n",
              "      <td>Colun</td>\n",
              "      <td>17388</td>\n",
              "      <td>0</td>\n",
              "      <td>0</td>\n",
              "      <td>0</td>\n",
              "      <td>lacteos</td>\n",
              "    </tr>\n",
              "  </tbody>\n",
              "</table>\n",
              "</div>\n",
              "    <div class=\"colab-df-buttons\">\n",
              "\n",
              "  <div class=\"colab-df-container\">\n",
              "    <button class=\"colab-df-convert\" onclick=\"convertToInteractive('df-e9db5899-257a-4187-83e8-1429ba786df1')\"\n",
              "            title=\"Convert this dataframe to an interactive table.\"\n",
              "            style=\"display:none;\">\n",
              "\n",
              "  <svg xmlns=\"http://www.w3.org/2000/svg\" height=\"24px\" viewBox=\"0 -960 960 960\">\n",
              "    <path d=\"M120-120v-720h720v720H120Zm60-500h600v-160H180v160Zm220 220h160v-160H400v160Zm0 220h160v-160H400v160ZM180-400h160v-160H180v160Zm440 0h160v-160H620v160ZM180-180h160v-160H180v160Zm440 0h160v-160H620v160Z\"/>\n",
              "  </svg>\n",
              "    </button>\n",
              "\n",
              "  <style>\n",
              "    .colab-df-container {\n",
              "      display:flex;\n",
              "      gap: 12px;\n",
              "    }\n",
              "\n",
              "    .colab-df-convert {\n",
              "      background-color: #E8F0FE;\n",
              "      border: none;\n",
              "      border-radius: 50%;\n",
              "      cursor: pointer;\n",
              "      display: none;\n",
              "      fill: #1967D2;\n",
              "      height: 32px;\n",
              "      padding: 0 0 0 0;\n",
              "      width: 32px;\n",
              "    }\n",
              "\n",
              "    .colab-df-convert:hover {\n",
              "      background-color: #E2EBFA;\n",
              "      box-shadow: 0px 1px 2px rgba(60, 64, 67, 0.3), 0px 1px 3px 1px rgba(60, 64, 67, 0.15);\n",
              "      fill: #174EA6;\n",
              "    }\n",
              "\n",
              "    .colab-df-buttons div {\n",
              "      margin-bottom: 4px;\n",
              "    }\n",
              "\n",
              "    [theme=dark] .colab-df-convert {\n",
              "      background-color: #3B4455;\n",
              "      fill: #D2E3FC;\n",
              "    }\n",
              "\n",
              "    [theme=dark] .colab-df-convert:hover {\n",
              "      background-color: #434B5C;\n",
              "      box-shadow: 0px 1px 3px 1px rgba(0, 0, 0, 0.15);\n",
              "      filter: drop-shadow(0px 1px 2px rgba(0, 0, 0, 0.3));\n",
              "      fill: #FFFFFF;\n",
              "    }\n",
              "  </style>\n",
              "\n",
              "    <script>\n",
              "      const buttonEl =\n",
              "        document.querySelector('#df-e9db5899-257a-4187-83e8-1429ba786df1 button.colab-df-convert');\n",
              "      buttonEl.style.display =\n",
              "        google.colab.kernel.accessAllowed ? 'block' : 'none';\n",
              "\n",
              "      async function convertToInteractive(key) {\n",
              "        const element = document.querySelector('#df-e9db5899-257a-4187-83e8-1429ba786df1');\n",
              "        const dataTable =\n",
              "          await google.colab.kernel.invokeFunction('convertToInteractive',\n",
              "                                                    [key], {});\n",
              "        if (!dataTable) return;\n",
              "\n",
              "        const docLinkHtml = 'Like what you see? Visit the ' +\n",
              "          '<a target=\"_blank\" href=https://colab.research.google.com/notebooks/data_table.ipynb>data table notebook</a>'\n",
              "          + ' to learn more about interactive tables.';\n",
              "        element.innerHTML = '';\n",
              "        dataTable['output_type'] = 'display_data';\n",
              "        await google.colab.output.renderOutput(dataTable, element);\n",
              "        const docLink = document.createElement('div');\n",
              "        docLink.innerHTML = docLinkHtml;\n",
              "        element.appendChild(docLink);\n",
              "      }\n",
              "    </script>\n",
              "  </div>\n",
              "\n",
              "\n",
              "<div id=\"df-257c3dad-0981-463d-935b-78579f3cb253\">\n",
              "  <button class=\"colab-df-quickchart\" onclick=\"quickchart('df-257c3dad-0981-463d-935b-78579f3cb253')\"\n",
              "            title=\"Suggest charts\"\n",
              "            style=\"display:none;\">\n",
              "\n",
              "<svg xmlns=\"http://www.w3.org/2000/svg\" height=\"24px\"viewBox=\"0 0 24 24\"\n",
              "     width=\"24px\">\n",
              "    <g>\n",
              "        <path d=\"M19 3H5c-1.1 0-2 .9-2 2v14c0 1.1.9 2 2 2h14c1.1 0 2-.9 2-2V5c0-1.1-.9-2-2-2zM9 17H7v-7h2v7zm4 0h-2V7h2v10zm4 0h-2v-4h2v4z\"/>\n",
              "    </g>\n",
              "</svg>\n",
              "  </button>\n",
              "\n",
              "<style>\n",
              "  .colab-df-quickchart {\n",
              "      --bg-color: #E8F0FE;\n",
              "      --fill-color: #1967D2;\n",
              "      --hover-bg-color: #E2EBFA;\n",
              "      --hover-fill-color: #174EA6;\n",
              "      --disabled-fill-color: #AAA;\n",
              "      --disabled-bg-color: #DDD;\n",
              "  }\n",
              "\n",
              "  [theme=dark] .colab-df-quickchart {\n",
              "      --bg-color: #3B4455;\n",
              "      --fill-color: #D2E3FC;\n",
              "      --hover-bg-color: #434B5C;\n",
              "      --hover-fill-color: #FFFFFF;\n",
              "      --disabled-bg-color: #3B4455;\n",
              "      --disabled-fill-color: #666;\n",
              "  }\n",
              "\n",
              "  .colab-df-quickchart {\n",
              "    background-color: var(--bg-color);\n",
              "    border: none;\n",
              "    border-radius: 50%;\n",
              "    cursor: pointer;\n",
              "    display: none;\n",
              "    fill: var(--fill-color);\n",
              "    height: 32px;\n",
              "    padding: 0;\n",
              "    width: 32px;\n",
              "  }\n",
              "\n",
              "  .colab-df-quickchart:hover {\n",
              "    background-color: var(--hover-bg-color);\n",
              "    box-shadow: 0 1px 2px rgba(60, 64, 67, 0.3), 0 1px 3px 1px rgba(60, 64, 67, 0.15);\n",
              "    fill: var(--button-hover-fill-color);\n",
              "  }\n",
              "\n",
              "  .colab-df-quickchart-complete:disabled,\n",
              "  .colab-df-quickchart-complete:disabled:hover {\n",
              "    background-color: var(--disabled-bg-color);\n",
              "    fill: var(--disabled-fill-color);\n",
              "    box-shadow: none;\n",
              "  }\n",
              "\n",
              "  .colab-df-spinner {\n",
              "    border: 2px solid var(--fill-color);\n",
              "    border-color: transparent;\n",
              "    border-bottom-color: var(--fill-color);\n",
              "    animation:\n",
              "      spin 1s steps(1) infinite;\n",
              "  }\n",
              "\n",
              "  @keyframes spin {\n",
              "    0% {\n",
              "      border-color: transparent;\n",
              "      border-bottom-color: var(--fill-color);\n",
              "      border-left-color: var(--fill-color);\n",
              "    }\n",
              "    20% {\n",
              "      border-color: transparent;\n",
              "      border-left-color: var(--fill-color);\n",
              "      border-top-color: var(--fill-color);\n",
              "    }\n",
              "    30% {\n",
              "      border-color: transparent;\n",
              "      border-left-color: var(--fill-color);\n",
              "      border-top-color: var(--fill-color);\n",
              "      border-right-color: var(--fill-color);\n",
              "    }\n",
              "    40% {\n",
              "      border-color: transparent;\n",
              "      border-right-color: var(--fill-color);\n",
              "      border-top-color: var(--fill-color);\n",
              "    }\n",
              "    60% {\n",
              "      border-color: transparent;\n",
              "      border-right-color: var(--fill-color);\n",
              "    }\n",
              "    80% {\n",
              "      border-color: transparent;\n",
              "      border-right-color: var(--fill-color);\n",
              "      border-bottom-color: var(--fill-color);\n",
              "    }\n",
              "    90% {\n",
              "      border-color: transparent;\n",
              "      border-bottom-color: var(--fill-color);\n",
              "    }\n",
              "  }\n",
              "</style>\n",
              "\n",
              "  <script>\n",
              "    async function quickchart(key) {\n",
              "      const quickchartButtonEl =\n",
              "        document.querySelector('#' + key + ' button');\n",
              "      quickchartButtonEl.disabled = true;  // To prevent multiple clicks.\n",
              "      quickchartButtonEl.classList.add('colab-df-spinner');\n",
              "      try {\n",
              "        const charts = await google.colab.kernel.invokeFunction(\n",
              "            'suggestCharts', [key], {});\n",
              "      } catch (error) {\n",
              "        console.error('Error during call to suggestCharts:', error);\n",
              "      }\n",
              "      quickchartButtonEl.classList.remove('colab-df-spinner');\n",
              "      quickchartButtonEl.classList.add('colab-df-quickchart-complete');\n",
              "    }\n",
              "    (() => {\n",
              "      let quickchartButtonEl =\n",
              "        document.querySelector('#df-257c3dad-0981-463d-935b-78579f3cb253 button');\n",
              "      quickchartButtonEl.style.display =\n",
              "        google.colab.kernel.accessAllowed ? 'block' : 'none';\n",
              "    })();\n",
              "  </script>\n",
              "</div>\n",
              "\n",
              "    </div>\n",
              "  </div>\n"
            ],
            "application/vnd.google.colaboratory.intrinsic+json": {
              "type": "dataframe",
              "variable_name": "df",
              "summary": "{\n  \"name\": \"df\",\n  \"rows\": 1107,\n  \"fields\": [\n    {\n      \"column\": \"title\",\n      \"properties\": {\n        \"dtype\": \"string\",\n        \"num_unique_values\": 1065,\n        \"samples\": [\n          \"Pack 12 un, Leche entera 1 L\",\n          \"Yoghurt batido Colun damasco 1 kg\",\n          \"Leche Loncoleche cappucino prote\\u00edna 1 L\"\n        ],\n        \"semantic_type\": \"\",\n        \"description\": \"\"\n      }\n    },\n    {\n      \"column\": \"Marca\",\n      \"properties\": {\n        \"dtype\": \"category\",\n        \"num_unique_values\": 156,\n        \"samples\": [\n          \"Calan\",\n          \"Chiquit\\u00edn\",\n          \"Protex\"\n        ],\n        \"semantic_type\": \"\",\n        \"description\": \"\"\n      }\n    },\n    {\n      \"column\": \"Preco_Normal\",\n      \"properties\": {\n        \"dtype\": \"number\",\n        \"std\": 2961,\n        \"min\": 0,\n        \"max\": 19788,\n        \"num_unique_values\": 361,\n        \"samples\": [\n          2499,\n          6790,\n          10599\n        ],\n        \"semantic_type\": \"\",\n        \"description\": \"\"\n      }\n    },\n    {\n      \"column\": \"Preco_Desconto\",\n      \"properties\": {\n        \"dtype\": \"number\",\n        \"std\": 1339,\n        \"min\": 0,\n        \"max\": 14550,\n        \"num_unique_values\": 101,\n        \"samples\": [\n          3732,\n          4790,\n          1250\n        ],\n        \"semantic_type\": \"\",\n        \"description\": \"\"\n      }\n    },\n    {\n      \"column\": \"Preco_Anterior\",\n      \"properties\": {\n        \"dtype\": \"number\",\n        \"std\": 1239,\n        \"min\": 0,\n        \"max\": 18899,\n        \"num_unique_values\": 64,\n        \"samples\": [\n          5549,\n          5499,\n          0\n        ],\n        \"semantic_type\": \"\",\n        \"description\": \"\"\n      }\n    },\n    {\n      \"column\": \"Desconto\",\n      \"properties\": {\n        \"dtype\": \"number\",\n        \"std\": 241,\n        \"min\": 0,\n        \"max\": 4349,\n        \"num_unique_values\": 68,\n        \"samples\": [\n          693,\n          359,\n          140\n        ],\n        \"semantic_type\": \"\",\n        \"description\": \"\"\n      }\n    },\n    {\n      \"column\": \"Categoria\",\n      \"properties\": {\n        \"dtype\": \"category\",\n        \"num_unique_values\": 7,\n        \"samples\": [\n          \"lacteos\",\n          \"belleza-y-cuidado-personal\",\n          \"verduras\"\n        ],\n        \"semantic_type\": \"\",\n        \"description\": \"\"\n      }\n    }\n  ]\n}"
            }
          },
          "metadata": {},
          "execution_count": 9
        }
      ]
    },
    {
      "cell_type": "code",
      "source": [
        "from google.colab import drive\n",
        "drive.mount('/content/drive')"
      ],
      "metadata": {
        "colab": {
          "base_uri": "https://localhost:8080/"
        },
        "id": "ypjbHcUSXXMR",
        "outputId": "1c1787c6-1204-4055-963f-5f8de302746a"
      },
      "execution_count": 8,
      "outputs": [
        {
          "output_type": "stream",
          "name": "stdout",
          "text": [
            "Mounted at /content/drive\n"
          ]
        }
      ]
    },
    {
      "cell_type": "markdown",
      "source": [
        "Os campos do nosso dataframe são:\n",
        "\n",
        "**Title:** Nome do produto.\n",
        "\n",
        "\n",
        "**Marca:** A marca do produto.\n",
        "\n",
        "\n",
        "**Preco_Normal:** O preço em que o produto costuma ser vendido quando não há desconto.\n",
        "\n",
        "\n",
        "**Preco_Desconto:** O preço vendido após o desconto ser aplicado.\n",
        "\n",
        "\n",
        "**Preco_Anterior:** Preço em que era comercializado o produto antes do desconto aplicado.\n",
        "\n",
        "\n",
        "**Desconto:** Total de desconto aplicado.\n",
        "\n",
        "\n",
        "\n",
        "\n",
        "\n",
        "\n",
        "As colunas que aparecem com valores 0 são para os produtos onde não tivemos descontos aplicados.\n",
        "\n",
        "\n",
        "As categorias estão em espanhol!"
      ],
      "metadata": {
        "id": "YJgKJ7Nxwtw2"
      }
    },
    {
      "cell_type": "markdown",
      "source": [
        "# 1 - Traga a média e a mediana dos preços - coluna Preco_Normal - por categoria de produto.\n",
        "# Identifique as categorias que parecem ter um valor de média abaixo ou acima da mediana."
      ],
      "metadata": {
        "id": "4u6WBeyyy6ri"
      }
    },
    {
      "cell_type": "code",
      "source": [
        "#Seu código aqui para a média\n",
        "media_por_categoria = df.groupby(\"Categoria\")[\"Preco_Normal\"].mean()\n",
        "\n",
        "\n",
        "# Exibir os resultados\n",
        "print(media_por_categoria)\n"
      ],
      "metadata": {
        "id": "E7B7FolOzVcJ",
        "colab": {
          "base_uri": "https://localhost:8080/"
        },
        "outputId": "f8ff2e3c-2bcb-46a8-8b6b-9e326f0886c4"
      },
      "execution_count": 11,
      "outputs": [
        {
          "output_type": "stream",
          "name": "stdout",
          "text": [
            "Categoria\n",
            "belleza-y-cuidado-personal    1783.556485\n",
            "comidas-preparadas            3095.043478\n",
            "congelados                    2108.042553\n",
            "frutas                        1724.473684\n",
            "instantaneos-y-sopas           765.491228\n",
            "lacteos                       2385.219239\n",
            "verduras                      1343.296875\n",
            "Name: Preco_Normal, dtype: float64\n"
          ]
        }
      ]
    },
    {
      "cell_type": "code",
      "source": [
        "#Seu código aqui para a mediana\n",
        "\n",
        "mediana_por_categoria = df.groupby(\"Categoria\")[\"Preco_Normal\"].median()\n",
        "\n",
        "# Exibir os resultados\n",
        "print(mediana_por_categoria)\n"
      ],
      "metadata": {
        "id": "Rwf4V3hnzZwh",
        "colab": {
          "base_uri": "https://localhost:8080/"
        },
        "outputId": "e3b501d0-441d-4d75-93f4-d8ef36d6f002"
      },
      "execution_count": 12,
      "outputs": [
        {
          "output_type": "stream",
          "name": "stdout",
          "text": [
            "Categoria\n",
            "belleza-y-cuidado-personal    1569.0\n",
            "comidas-preparadas            3290.0\n",
            "congelados                    1519.0\n",
            "frutas                        1195.0\n",
            "instantaneos-y-sopas           439.0\n",
            "lacteos                        989.0\n",
            "verduras                      1180.0\n",
            "Name: Preco_Normal, dtype: float64\n"
          ]
        }
      ]
    },
    {
      "cell_type": "markdown",
      "source": [
        "[texto do link](https://)Digite aqui as categorias: lacteos e belleza-y-cuidado-personal\n"
      ],
      "metadata": {
        "id": "nKBFOh-mzyWX"
      }
    },
    {
      "cell_type": "markdown",
      "source": [
        "*texto em itálico*# 2 - Traga o desvio padrão por categoria de produto.\n",
        "# Qual o comportamento da média e mediana nas categorias com maior desvio?"
      ],
      "metadata": {
        "id": "jdHZurzDzca0"
      }
    },
    {
      "cell_type": "code",
      "source": [
        "#Seu código aqui\n",
        "\n",
        "desvio_padrao_por_categoria = df.groupby(\"Categoria\")[\"Preco_Normal\"].std()\n",
        "\n",
        "print(desvio_padrao_por_categoria)"
      ],
      "metadata": {
        "id": "xEXT1gtoz135",
        "colab": {
          "base_uri": "https://localhost:8080/"
        },
        "outputId": "8b0d4a03-de30-4f5e-ceb6-b998a264c60c"
      },
      "execution_count": 14,
      "outputs": [
        {
          "output_type": "stream",
          "name": "stdout",
          "text": [
            "Categoria\n",
            "belleza-y-cuidado-personal    2210.041719\n",
            "comidas-preparadas            2019.911428\n",
            "congelados                    2111.539896\n",
            "frutas                        1639.151114\n",
            "instantaneos-y-sopas          1170.232869\n",
            "lacteos                       3925.816164\n",
            "verduras                      1012.699625\n",
            "Name: Preco_Normal, dtype: float64\n"
          ]
        }
      ]
    },
    {
      "cell_type": "markdown",
      "source": [
        "Digite nesse campo o comportamento que você identificou.\n",
        "\n",
        "o comportamento confirmou que a categoria lacteos tem o maior desvio padrão."
      ],
      "metadata": {
        "id": "HzsLO4nOz3yJ"
      }
    },
    {
      "cell_type": "markdown",
      "source": [
        "# 3 - Plot um boxplot da distribuição do Preco_Normal para a categoria que você identificou que tem o maior desvio padrão. Como é a distribuição desses dados segundo o boxplot? Você identifica muitos outliers?"
      ],
      "metadata": {
        "id": "4aW51rCHBr2w"
      }
    },
    {
      "cell_type": "markdown",
      "source": [
        "Dica: Para trazer apenas os dados da categoria que você deseja você pode usar o df.loc[df['Categoria'] == 'CATEGORIA ESCOLHIDA'"
      ],
      "metadata": {
        "id": "kwPKkUZnEUSb"
      }
    },
    {
      "cell_type": "code",
      "source": [
        "#Seu código aqui\n",
        "\n",
        "lacteos_data = df[df['Categoria'] == 'lacteos']\n",
        "\n",
        "# Criar o boxplot com matplotlib\n",
        "plt.figure(figsize=(10, 6))\n",
        "plt.boxplot(lacteos_data['Preco_Normal'], vert=False)\n",
        "plt.title('Distribuição do Preço Normal para a Categoria Lácteos (Matplotlib)')\n",
        "plt.xlabel('Preço Normal')\n",
        "plt.show()\n"
      ],
      "metadata": {
        "id": "_02thblTCKEF",
        "colab": {
          "base_uri": "https://localhost:8080/",
          "height": 565
        },
        "outputId": "b7207353-6c53-4bbc-e1bf-86717923a224"
      },
      "execution_count": 15,
      "outputs": [
        {
          "output_type": "display_data",
          "data": {
            "text/plain": [
              "<Figure size 1000x600 with 1 Axes>"
            ],
            "image/png": "[encoded data removed]"
          },
          "metadata": {}
        }
      ]
    },
    {
      "cell_type": "markdown",
      "source": [
        "resposta:\n",
        "Segundo o boxplot, mostra que os preços normais dos lácteos variam de aproximadamente 0 a 6.500.  A maior parte dos dados está concentrada entre 0 e 2.500. Já a mediana deve ser aproximadamente 1000. a distribuição é assimétrica à direita. Sobre os outliers, existem muito pontos além de 6.500.\n"
      ],
      "metadata": {
        "id": "daxQHaEIj9A1"
      }
    },
    {
      "cell_type": "markdown",
      "source": [
        "# 4 - Plote um gráfico de barras onde temos a média de descontos por categoria."
      ],
      "metadata": {
        "id": "w5xgQBC_0Hg-"
      }
    },
    {
      "cell_type": "code",
      "source": [
        "# Seu código aqui\n",
        "\n",
        "media_descontos = df.groupby('Categoria')['Desconto'].mean().reset_index()\n",
        "\n",
        "# Criar o gráfico de barras\n",
        "plt.figure(figsize=(10, 6))\n",
        "plt.bar(media_descontos['Categoria'], media_descontos['Desconto'])\n",
        "plt.title('Média de Descontos por Categoria')\n",
        "plt.xlabel('Categoria')\n",
        "plt.ylabel('Média de Desconto')\n",
        "plt.xticks(rotation=45)  # Rotacionar os rótulos do eixo x para melhor legibilidade\n",
        "plt.show()\n"
      ],
      "metadata": {
        "id": "DBj5zAdI0QfI",
        "colab": {
          "base_uri": "https://localhost:8080/",
          "height": 693
        },
        "outputId": "1924898d-d1c1-4789-a846-c21b37fc729e"
      },
      "execution_count": 16,
      "outputs": [
        {
          "output_type": "display_data",
          "data": {
            "text/plain": [
              "<Figure size 1000x600 with 1 Axes>"
            ],
            "image/png": "[encoded data removed]"
          },
          "metadata": {}
        }
      ]
    },
    {
      "cell_type": "markdown",
      "source": [
        "# 5 - Plote um gráfico de mapa interativo agrupando os dados por categoria, marca e trazendo a média de desconto."
      ],
      "metadata": {
        "id": "vqlx0w7E07uC"
      }
    },
    {
      "cell_type": "code",
      "source": [
        "# Seu código aqui\n",
        "\n",
        "\n",
        "# Simular dados de localização (latitude e longitude) para cada marca\n",
        "# Isso é apenas um exemplo, pois o arquivo original não tem informações geográficas\n",
        "localizacao_marcas = {\n",
        "    'Loncoleche': {'lat': -33.4489, 'lon': -70.6693},  # Santiago, Chile\n",
        "    'Soprole': {'lat': -33.0365, 'lon': -71.5899},     # Valparaíso, Chile\n",
        "    'Colun': {'lat': -39.8142, 'lon': -73.2459},       # Valdivia, Chile\n",
        "    'Nido': {'lat': -12.0464, 'lon': -77.0428},        # Lima, Peru\n",
        "    'Cuisine & Co': {'lat': -34.6037, 'lon': -58.3816} # Buenos Aires, Argentina\n",
        "}\n",
        "\n",
        "# Adicionar latitude e longitude ao DataFrame\n",
        "df['lat'] = df['Marca'].map(lambda x: localizacao_marcas.get(x, {}).get('lat', 0))\n",
        "df['lon'] = df['Marca'].map(lambda x: localizacao_marcas.get(x, {}).get('lon', 0))\n",
        "\n",
        "# Calcular a média de descontos por categoria e marca\n",
        "media_descontos = df.groupby(['Categoria', 'Marca', 'lat', 'lon'], as_index=False)['Desconto'].mean()\n",
        "\n",
        "# Criar o mapa interativo\n",
        "fig = px.scatter_geo(\n",
        "    media_descontos,\n",
        "    lat='lat',\n",
        "    lon='lon',\n",
        "    color='Categoria',  # Agrupar por categoria\n",
        "    size='Desconto',    # Tamanho do marcador proporcional ao desconto médio\n",
        "    hover_name='Marca', # Nome exibido ao passar o mouse\n",
        "    hover_data={'Desconto': ':.2f'},  # Formatar o desconto com 2 casas decimais\n",
        "    title='Média de Descontos por Categoria e Marca'\n",
        ")\n",
        "\n",
        "# Ajustar o layout do mapa\n",
        "fig.update_geos(\n",
        "    projection_type=\"natural earth\",  # Tipo de projeção do mapa\n",
        "    showcountries=True,               # Mostrar fronteiras dos países\n",
        "    coastlinecolor=\"Black\",           # Cor da costa\n",
        ")\n",
        "\n",
        "# Exibir o mapa\n",
        "fig.show()\n"
      ],
      "metadata": {
        "id": "D-JWM64Q1NzB",
        "colab": {
          "base_uri": "https://localhost:8080/",
          "height": 542
        },
        "outputId": "ca792eff-6fd0-4c73-cdb8-ac6b6adaed28"
      },
      "execution_count": 17,
      "outputs": [
        {
          "output_type": "display_data",
          "data": {
            "text/html": [
              "<html>\n",
              "<head><meta charset=\"utf-8\" /></head>\n",
              "<body>\n",
              "    <div>            <script src=\"https://cdnjs.cloudflare.com/ajax/libs/mathjax/2.7.5/MathJax.js?config=TeX-AMS-MML_SVG\"></script><script type=\"text/javascript\">if (window.MathJax && window.MathJax.Hub && window.MathJax.Hub.Config) {window.MathJax.Hub.Config({SVG: {font: \"STIX-Web\"}});}</script>                <script type=\"text/javascript\">window.PlotlyConfig = {MathJaxConfig: 'local'};</script>\n",
              "        <script charset=\"utf-8\" src=\"https://cdn.plot.ly/plotly-2.35.2.min.js\"></script>                <div id=\"cba4d73e-4189-4b79-af76-300b14a009dd\" class=\"plotly-graph-div\" style=\"height:525px; width:100%;\"></div>            <script type=\"text/javascript\">                                    window.PLOTLYENV=window.PLOTLYENV || {};                                    if (document.getElementById(\"cba4d73e-4189-4b79-af76-300b14a009dd\")) {                    Plotly.newPlot(                        \"cba4d73e-4189-4b79-af76-300b14a009dd\",                        [{\"customdata\":[[123.75],[444.6666666666667],[590.0],[0.0],[34.083333333333336],[0.0],[650.0],[0.0],[0.0],[117.0952380952381],[0.0],[0.0],[0.0],[429.8666666666667],[252.25],[0.0],[0.0],[0.0],[0.0],[0.0],[0.0],[0.0],[0.0],[0.0],[0.0],[0.0],[0.0],[0.0],[55.166666666666664],[0.0],[94.83333333333333],[0.0],[0.0],[0.0],[0.0],[0.0],[0.0],[103.45454545454545],[0.0],[797.0],[88.55555555555556],[684.8571428571429],[344.3333333333333],[0.0],[304.5],[660.0],[795.0],[660.0],[795.0],[0.0],[0.0],[0.0],[0.0],[300.0],[0.0],[0.0],[0.0],[0.0],[0.0]],\"geo\":\"geo\",\"hovertemplate\":\"\\u003cb\\u003e%{hovertext}\\u003c\\u002fb\\u003e\\u003cbr\\u003e\\u003cbr\\u003eCategoria=belleza-y-cuidado-personal\\u003cbr\\u003eDesconto=%{customdata[0]:.2f}\\u003cbr\\u003elat=%{lat}\\u003cbr\\u003elon=%{lon}\\u003cextra\\u003e\\u003c\\u002fextra\\u003e\",\"hovertext\":[\"Always\",\"Aquafresh\",\"Axe\",\"Babyland\",\"Ballerina\",\"Bellekiss\",\"BiO\",\"Brooks\",\"Carefree\",\"Colgate\",\"Cotidian\",\"Cotosan\",\"Dento\",\"Dove\",\"Dove Men\",\"Duralón\",\"Elite\",\"Elvive\",\"Familand\",\"Family Care\",\"Fructis\",\"Garnier\",\"Gillette\",\"Giselle\",\"Head & Shoulders\",\"Herbal\",\"Herbal Essences\",\"Ilicit\",\"Kotex\",\"Lady Speed Stick\",\"Ladysoft\",\"Le Sancy\",\"Linic\",\"Listerine\",\"Naturella\",\"Nivea\",\"Nivea For Men\",\"Nosotras\",\"Old Spice\",\"Oral Fresh\",\"Oral-B\",\"Pantene\",\"Pepsodent\",\"Plenitud\",\"Protex\",\"Rexona\",\"Rexona Clinical\",\"Rexona Men\",\"Rexona Men Clinical\",\"Schick\",\"Sedal\",\"Sensodyne\",\"Simond'S\",\"Simonds\",\"Speed Stick\",\"Tena\",\"Trianon\",\"Tío Nacho\",\"Vanart\"],\"lat\":[0.0,0.0,0.0,0.0,0.0,0.0,0.0,0.0,0.0,0.0,0.0,0.0,0.0,0.0,0.0,0.0,0.0,0.0,0.0,0.0,0.0,0.0,0.0,0.0,0.0,0.0,0.0,0.0,0.0,0.0,0.0,0.0,0.0,0.0,0.0,0.0,0.0,0.0,0.0,0.0,0.0,0.0,0.0,0.0,0.0,0.0,0.0,0.0,0.0,0.0,0.0,0.0,0.0,0.0,0.0,0.0,0.0,0.0,0.0],\"legendgroup\":\"belleza-y-cuidado-personal\",\"lon\":[0.0,0.0,0.0,0.0,0.0,0.0,0.0,0.0,0.0,0.0,0.0,0.0,0.0,0.0,0.0,0.0,0.0,0.0,0.0,0.0,0.0,0.0,0.0,0.0,0.0,0.0,0.0,0.0,0.0,0.0,0.0,0.0,0.0,0.0,0.0,0.0,0.0,0.0,0.0,0.0,0.0,0.0,0.0,0.0,0.0,0.0,0.0,0.0,0.0,0.0,0.0,0.0,0.0,0.0,0.0,0.0,0.0,0.0,0.0],\"marker\":{\"color\":\"#636efa\",\"size\":[123.75,444.6666666666667,590.0,0.0,34.083333333333336,0.0,650.0,0.0,0.0,117.0952380952381,0.0,0.0,0.0,429.8666666666667,252.25,0.0,0.0,0.0,0.0,0.0,0.0,0.0,0.0,0.0,0.0,0.0,0.0,0.0,55.166666666666664,0.0,94.83333333333333,0.0,0.0,0.0,0.0,0.0,0.0,103.45454545454545,0.0,797.0,88.55555555555556,684.8571428571429,344.3333333333333,0.0,304.5,660.0,795.0,660.0,795.0,0.0,0.0,0.0,0.0,300.0,0.0,0.0,0.0,0.0,0.0],\"sizemode\":\"area\",\"sizeref\":2.3875,\"symbol\":\"circle\"},\"mode\":\"markers\",\"name\":\"belleza-y-cuidado-personal\",\"showlegend\":true,\"type\":\"scattergeo\"},{\"customdata\":[[0.0],[0.0],[0.0],[0.0],[200.0],[0.0],[0.0],[0.0],[0.0]],\"geo\":\"geo\",\"hovertemplate\":\"\\u003cb\\u003e%{hovertext}\\u003c\\u002fb\\u003e\\u003cbr\\u003e\\u003cbr\\u003eCategoria=comidas-preparadas\\u003cbr\\u003eDesconto=%{customdata[0]:.2f}\\u003cbr\\u003elat=%{lat}\\u003cbr\\u003elon=%{lon}\\u003cextra\\u003e\\u003c\\u002fextra\\u003e\",\"hovertext\":[\"Bredenmaster\",\"Corbac\",\"Cuisine & Co\",\"La Crianza\",\"PF\",\"Rana\",\"Sadia\",\"Santa Isabel\",\"Solo Italia\"],\"lat\":[0.0,0.0,-34.6037,0.0,0.0,0.0,0.0,0.0,0.0],\"legendgroup\":\"comidas-preparadas\",\"lon\":[0.0,0.0,-58.3816,0.0,0.0,0.0,0.0,0.0,0.0],\"marker\":{\"color\":\"#EF553B\",\"size\":[0.0,0.0,0.0,0.0,200.0,0.0,0.0,0.0,0.0],\"sizemode\":\"area\",\"sizeref\":2.3875,\"symbol\":\"circle\"},\"mode\":\"markers\",\"name\":\"comidas-preparadas\",\"showlegend\":true,\"type\":\"scattergeo\"},{\"customdata\":[[0.0],[0.0],[429.7857142857143],[357.5],[148.34285714285716],[0.0],[136.26666666666668],[0.0],[0.0],[0.0],[955.0],[657.0],[19.5],[0.0],[210.0],[0.0],[0.0],[0.0],[0.0],[0.0],[0.0],[0.0],[164.25],[0.0],[70.0],[456.15625],[120.0],[0.0],[0.0],[0.0],[0.0],[546.0],[0.0]],\"geo\":\"geo\",\"hovertemplate\":\"\\u003cb\\u003e%{hovertext}\\u003c\\u002fb\\u003e\\u003cbr\\u003e\\u003cbr\\u003eCategoria=congelados\\u003cbr\\u003eDesconto=%{customdata[0]:.2f}\\u003cbr\\u003elat=%{lat}\\u003cbr\\u003elon=%{lon}\\u003cextra\\u003e\\u003c\\u002fextra\\u003e\",\"hovertext\":[\"Alimentos Shen\",\"Bravissimo\",\"Bresler\",\"Carte Dor\",\"Cuisine & Co\",\"Fiesta\",\"Frutos Del Maipo\",\"Guallarauco\",\"King\",\"La Crianza\",\"Magnum\",\"Mega\",\"Minuto Verde\",\"Mister Veggie\",\"Not Burger\",\"Not Chicken\",\"Not Ice Cream\",\"PF\",\"Receta Del Abuelo\",\"Rikü\",\"Rock\",\"Sadia\",\"Sahne Nuss\",\"San Francisco De Loncomilla\",\"San Jorge\",\"Savory\",\"Super Beef\",\"Super Cerdo\",\"Super Pollo\",\"Tivoni\",\"Turkey Hill\",\"Viennetta Bresler\",\"Zole\"],\"lat\":[0.0,0.0,0.0,0.0,-34.6037,0.0,0.0,0.0,0.0,0.0,0.0,0.0,0.0,0.0,0.0,0.0,0.0,0.0,0.0,0.0,0.0,0.0,0.0,0.0,0.0,0.0,0.0,0.0,0.0,0.0,0.0,0.0,0.0],\"legendgroup\":\"congelados\",\"lon\":[0.0,0.0,0.0,0.0,-58.3816,0.0,0.0,0.0,0.0,0.0,0.0,0.0,0.0,0.0,0.0,0.0,0.0,0.0,0.0,0.0,0.0,0.0,0.0,0.0,0.0,0.0,0.0,0.0,0.0,0.0,0.0,0.0,0.0],\"marker\":{\"color\":\"#00cc96\",\"size\":[0.0,0.0,429.7857142857143,357.5,148.34285714285716,0.0,136.26666666666668,0.0,0.0,0.0,955.0,657.0,19.5,0.0,210.0,0.0,0.0,0.0,0.0,0.0,0.0,0.0,164.25,0.0,70.0,456.15625,120.0,0.0,0.0,0.0,0.0,546.0,0.0],\"sizemode\":\"area\",\"sizeref\":2.3875,\"symbol\":\"circle\"},\"mode\":\"markers\",\"name\":\"congelados\",\"showlegend\":true,\"type\":\"scattergeo\"},{\"customdata\":[[0.0],[0.0],[0.0]],\"geo\":\"geo\",\"hovertemplate\":\"\\u003cb\\u003e%{hovertext}\\u003c\\u002fb\\u003e\\u003cbr\\u003e\\u003cbr\\u003eCategoria=frutas\\u003cbr\\u003eDesconto=%{customdata[0]:.2f}\\u003cbr\\u003elat=%{lat}\\u003cbr\\u003elon=%{lon}\\u003cextra\\u003e\\u003c\\u002fextra\\u003e\",\"hovertext\":[\"Frutas Y Verduras Propias\",\"Frutas Y Verduras Santa Isabel\",\"Sofruco\"],\"lat\":[0.0,0.0,0.0],\"legendgroup\":\"frutas\",\"lon\":[0.0,0.0,0.0],\"marker\":{\"color\":\"#ab63fa\",\"size\":[0.0,0.0,0.0],\"sizemode\":\"area\",\"sizeref\":2.3875,\"symbol\":\"circle\"},\"mode\":\"markers\",\"name\":\"frutas\",\"showlegend\":true,\"type\":\"scattergeo\"},{\"customdata\":[[0.0],[0.0],[0.0],[0.0],[0.0],[0.0],[0.0],[0.0],[0.0],[0.0]],\"geo\":\"geo\",\"hovertemplate\":\"\\u003cb\\u003e%{hovertext}\\u003c\\u002fb\\u003e\\u003cbr\\u003e\\u003cbr\\u003eCategoria=instantaneos-y-sopas\\u003cbr\\u003eDesconto=%{customdata[0]:.2f}\\u003cbr\\u003elat=%{lat}\\u003cbr\\u003elon=%{lon}\\u003cextra\\u003e\\u003c\\u002fextra\\u003e\",\"hovertext\":[\"Alcafood\",\"Carozzi\",\"Cuisine & Co\",\"Gourmet\",\"Hoffmann\",\"Maggi\",\"Máxima MP\",\"Naturezza\",\"Santa Isabel\",\"Traverso\"],\"lat\":[0.0,0.0,-34.6037,0.0,0.0,0.0,0.0,0.0,0.0,0.0],\"legendgroup\":\"instantaneos-y-sopas\",\"lon\":[0.0,0.0,-58.3816,0.0,0.0,0.0,0.0,0.0,0.0,0.0],\"marker\":{\"color\":\"#FFA15A\",\"size\":[0.0,0.0,0.0,0.0,0.0,0.0,0.0,0.0,0.0,0.0],\"sizemode\":\"area\",\"sizeref\":2.3875,\"symbol\":\"circle\"},\"mode\":\"markers\",\"name\":\"instantaneos-y-sopas\",\"showlegend\":true,\"type\":\"scattergeo\"},{\"customdata\":[[0.0],[0.0],[0.0],[0.0],[0.0],[0.0],[0.0],[0.0],[0.0],[0.0],[0.0],[4.471264367816092],[0.0],[0.0],[16.318181818181817],[0.0],[0.0],[0.0],[0.0],[0.0],[0.0],[0.0],[0.0],[0.0],[0.0],[0.0],[1.7674418604651163],[0.0],[869.8],[160.0],[0.0],[0.0],[0.0],[0.0],[0.0],[0.0],[0.0],[0.0],[0.0],[149.5],[0.0],[0.0],[10.852941176470589],[0.0],[261.0],[0.0],[0.0],[0.0],[0.0]],\"geo\":\"geo\",\"hovertemplate\":\"\\u003cb\\u003e%{hovertext}\\u003c\\u002fb\\u003e\\u003cbr\\u003e\\u003cbr\\u003eCategoria=lacteos\\u003cbr\\u003eDesconto=%{customdata[0]:.2f}\\u003cbr\\u003elat=%{lat}\\u003cbr\\u003elon=%{lon}\\u003cextra\\u003e\\u003c\\u002fextra\\u003e\",\"hovertext\":[\"1+1 Soprole\",\"Activia\",\"Astra\",\"Base Culinar\",\"Bonella\",\"Calan\",\"Calo\",\"Chamyto\",\"Chiquitín\",\"Cintazul\",\"Collico\",\"Colun\",\"Copacabana\",\"Crucina\",\"Cuisine & Co\",\"Danone\",\"Deline\",\"Ideal\",\"Kumey\",\"Lefersa\",\"Light & Free\",\"Loncoleche\",\"Los Alerces\",\"Marco Polo\",\"Máxima MP\",\"Nesquik\",\"Nestlé\",\"Next\",\"Nido\",\"Not Milk\",\"Oikos\",\"Omega 3\",\"Pamperita\",\"Qualy\",\"Quillayes\",\"Regimel\",\"Sahne Nuss\",\"San Ignacio\",\"Santa Isabel\",\"Santa Marta\",\"Shake A Shake Lonco Leche\",\"Signore Mario\",\"Soprole\",\"Soprole Activ\",\"Sureña\",\"Surlat\",\"Svelty\",\"Yogu - Yogu\",\"Zerolacto\"],\"lat\":[0.0,0.0,0.0,0.0,0.0,0.0,0.0,0.0,0.0,0.0,0.0,-39.8142,0.0,0.0,-34.6037,0.0,0.0,0.0,0.0,0.0,0.0,-33.4489,0.0,0.0,0.0,0.0,0.0,0.0,-12.0464,0.0,0.0,0.0,0.0,0.0,0.0,0.0,0.0,0.0,0.0,0.0,0.0,0.0,-33.0365,0.0,0.0,0.0,0.0,0.0,0.0],\"legendgroup\":\"lacteos\",\"lon\":[0.0,0.0,0.0,0.0,0.0,0.0,0.0,0.0,0.0,0.0,0.0,-73.2459,0.0,0.0,-58.3816,0.0,0.0,0.0,0.0,0.0,0.0,-70.6693,0.0,0.0,0.0,0.0,0.0,0.0,-77.0428,0.0,0.0,0.0,0.0,0.0,0.0,0.0,0.0,0.0,0.0,0.0,0.0,0.0,-71.5899,0.0,0.0,0.0,0.0,0.0,0.0],\"marker\":{\"color\":\"#19d3f3\",\"size\":[0.0,0.0,0.0,0.0,0.0,0.0,0.0,0.0,0.0,0.0,0.0,4.471264367816092,0.0,0.0,16.318181818181817,0.0,0.0,0.0,0.0,0.0,0.0,0.0,0.0,0.0,0.0,0.0,1.7674418604651163,0.0,869.8,160.0,0.0,0.0,0.0,0.0,0.0,0.0,0.0,0.0,0.0,149.5,0.0,0.0,10.852941176470589,0.0,261.0,0.0,0.0,0.0,0.0],\"sizemode\":\"area\",\"sizeref\":2.3875,\"symbol\":\"circle\"},\"mode\":\"markers\",\"name\":\"lacteos\",\"showlegend\":true,\"type\":\"scattergeo\"},{\"customdata\":[[0.0],[0.0],[0.0],[0.0]],\"geo\":\"geo\",\"hovertemplate\":\"\\u003cb\\u003e%{hovertext}\\u003c\\u002fb\\u003e\\u003cbr\\u003e\\u003cbr\\u003eCategoria=verduras\\u003cbr\\u003eDesconto=%{customdata[0]:.2f}\\u003cbr\\u003elat=%{lat}\\u003cbr\\u003elon=%{lon}\\u003cextra\\u003e\\u003c\\u002fextra\\u003e\",\"hovertext\":[\"Agrosano\",\"Dole\",\"Frutas Y Verduras Propias\",\"Jumbo\"],\"lat\":[0.0,0.0,0.0,0.0],\"legendgroup\":\"verduras\",\"lon\":[0.0,0.0,0.0,0.0],\"marker\":{\"color\":\"#FF6692\",\"size\":[0.0,0.0,0.0,0.0],\"sizemode\":\"area\",\"sizeref\":2.3875,\"symbol\":\"circle\"},\"mode\":\"markers\",\"name\":\"verduras\",\"showlegend\":true,\"type\":\"scattergeo\"}],                        {\"template\":{\"data\":{\"histogram2dcontour\":[{\"type\":\"histogram2dcontour\",\"colorbar\":{\"outlinewidth\":0,\"ticks\":\"\"},\"colorscale\":[[0.0,\"#0d0887\"],[0.1111111111111111,\"#46039f\"],[0.2222222222222222,\"#7201a8\"],[0.3333333333333333,\"#9c179e\"],[0.4444444444444444,\"#bd3786\"],[0.5555555555555556,\"#d8576b\"],[0.6666666666666666,\"#ed7953\"],[0.7777777777777778,\"#fb9f3a\"],[0.8888888888888888,\"#fdca26\"],[1.0,\"#f0f921\"]]}],\"choropleth\":[{\"type\":\"choropleth\",\"colorbar\":{\"outlinewidth\":0,\"ticks\":\"\"}}],\"histogram2d\":[{\"type\":\"histogram2d\",\"colorbar\":{\"outlinewidth\":0,\"ticks\":\"\"},\"colorscale\":[[0.0,\"#0d0887\"],[0.1111111111111111,\"#46039f\"],[0.2222222222222222,\"#7201a8\"],[0.3333333333333333,\"#9c179e\"],[0.4444444444444444,\"#bd3786\"],[0.5555555555555556,\"#d8576b\"],[0.6666666666666666,\"#ed7953\"],[0.7777777777777778,\"#fb9f3a\"],[0.8888888888888888,\"#fdca26\"],[1.0,\"#f0f921\"]]}],\"heatmap\":[{\"type\":\"heatmap\",\"colorbar\":{\"outlinewidth\":0,\"ticks\":\"\"},\"colorscale\":[[0.0,\"#0d0887\"],[0.1111111111111111,\"#46039f\"],[0.2222222222222222,\"#7201a8\"],[0.3333333333333333,\"#9c179e\"],[0.4444444444444444,\"#bd3786\"],[0.5555555555555556,\"#d8576b\"],[0.6666666666666666,\"#ed7953\"],[0.7777777777777778,\"#fb9f3a\"],[0.8888888888888888,\"#fdca26\"],[1.0,\"#f0f921\"]]}],\"heatmapgl\":[{\"type\":\"heatmapgl\",\"colorbar\":{\"outlinewidth\":0,\"ticks\":\"\"},\"colorscale\":[[0.0,\"#0d0887\"],[0.1111111111111111,\"#46039f\"],[0.2222222222222222,\"#7201a8\"],[0.3333333333333333,\"#9c179e\"],[0.4444444444444444,\"#bd3786\"],[0.5555555555555556,\"#d8576b\"],[0.6666666666666666,\"#ed7953\"],[0.7777777777777778,\"#fb9f3a\"],[0.8888888888888888,\"#fdca26\"],[1.0,\"#f0f921\"]]}],\"contourcarpet\":[{\"type\":\"contourcarpet\",\"colorbar\":{\"outlinewidth\":0,\"ticks\":\"\"}}],\"contour\":[{\"type\":\"contour\",\"colorbar\":{\"outlinewidth\":0,\"ticks\":\"\"},\"colorscale\":[[0.0,\"#0d0887\"],[0.1111111111111111,\"#46039f\"],[0.2222222222222222,\"#7201a8\"],[0.3333333333333333,\"#9c179e\"],[0.4444444444444444,\"#bd3786\"],[0.5555555555555556,\"#d8576b\"],[0.6666666666666666,\"#ed7953\"],[0.7777777777777778,\"#fb9f3a\"],[0.8888888888888888,\"#fdca26\"],[1.0,\"#f0f921\"]]}],\"surface\":[{\"type\":\"surface\",\"colorbar\":{\"outlinewidth\":0,\"ticks\":\"\"},\"colorscale\":[[0.0,\"#0d0887\"],[0.1111111111111111,\"#46039f\"],[0.2222222222222222,\"#7201a8\"],[0.3333333333333333,\"#9c179e\"],[0.4444444444444444,\"#bd3786\"],[0.5555555555555556,\"#d8576b\"],[0.6666666666666666,\"#ed7953\"],[0.7777777777777778,\"#fb9f3a\"],[0.8888888888888888,\"#fdca26\"],[1.0,\"#f0f921\"]]}],\"mesh3d\":[{\"type\":\"mesh3d\",\"colorbar\":{\"outlinewidth\":0,\"ticks\":\"\"}}],\"scatter\":[{\"fillpattern\":{\"fillmode\":\"overlay\",\"size\":10,\"solidity\":0.2},\"type\":\"scatter\"}],\"parcoords\":[{\"type\":\"parcoords\",\"line\":{\"colorbar\":{\"outlinewidth\":0,\"ticks\":\"\"}}}],\"scatterpolargl\":[{\"type\":\"scatterpolargl\",\"marker\":{\"colorbar\":{\"outlinewidth\":0,\"ticks\":\"\"}}}],\"bar\":[{\"error_x\":{\"color\":\"#2a3f5f\"},\"error_y\":{\"color\":\"#2a3f5f\"},\"marker\":{\"line\":{\"color\":\"#E5ECF6\",\"width\":0.5},\"pattern\":{\"fillmode\":\"overlay\",\"size\":10,\"solidity\":0.2}},\"type\":\"bar\"}],\"scattergeo\":[{\"type\":\"scattergeo\",\"marker\":{\"colorbar\":{\"outlinewidth\":0,\"ticks\":\"\"}}}],\"scatterpolar\":[{\"type\":\"scatterpolar\",\"marker\":{\"colorbar\":{\"outlinewidth\":0,\"ticks\":\"\"}}}],\"histogram\":[{\"marker\":{\"pattern\":{\"fillmode\":\"overlay\",\"size\":10,\"solidity\":0.2}},\"type\":\"histogram\"}],\"scattergl\":[{\"type\":\"scattergl\",\"marker\":{\"colorbar\":{\"outlinewidth\":0,\"ticks\":\"\"}}}],\"scatter3d\":[{\"type\":\"scatter3d\",\"line\":{\"colorbar\":{\"outlinewidth\":0,\"ticks\":\"\"}},\"marker\":{\"colorbar\":{\"outlinewidth\":0,\"ticks\":\"\"}}}],\"scattermapbox\":[{\"type\":\"scattermapbox\",\"marker\":{\"colorbar\":{\"outlinewidth\":0,\"ticks\":\"\"}}}],\"scatterternary\":[{\"type\":\"scatterternary\",\"marker\":{\"colorbar\":{\"outlinewidth\":0,\"ticks\":\"\"}}}],\"scattercarpet\":[{\"type\":\"scattercarpet\",\"marker\":{\"colorbar\":{\"outlinewidth\":0,\"ticks\":\"\"}}}],\"carpet\":[{\"aaxis\":{\"endlinecolor\":\"#2a3f5f\",\"gridcolor\":\"white\",\"linecolor\":\"white\",\"minorgridcolor\":\"white\",\"startlinecolor\":\"#2a3f5f\"},\"baxis\":{\"endlinecolor\":\"#2a3f5f\",\"gridcolor\":\"white\",\"linecolor\":\"white\",\"minorgridcolor\":\"white\",\"startlinecolor\":\"#2a3f5f\"},\"type\":\"carpet\"}],\"table\":[{\"cells\":{\"fill\":{\"color\":\"#EBF0F8\"},\"line\":{\"color\":\"white\"}},\"header\":{\"fill\":{\"color\":\"#C8D4E3\"},\"line\":{\"color\":\"white\"}},\"type\":\"table\"}],\"barpolar\":[{\"marker\":{\"line\":{\"color\":\"#E5ECF6\",\"width\":0.5},\"pattern\":{\"fillmode\":\"overlay\",\"size\":10,\"solidity\":0.2}},\"type\":\"barpolar\"}],\"pie\":[{\"automargin\":true,\"type\":\"pie\"}]},\"layout\":{\"autotypenumbers\":\"strict\",\"colorway\":[\"#636efa\",\"#EF553B\",\"#00cc96\",\"#ab63fa\",\"#FFA15A\",\"#19d3f3\",\"#FF6692\",\"#B6E880\",\"#FF97FF\",\"#FECB52\"],\"font\":{\"color\":\"#2a3f5f\"},\"hovermode\":\"closest\",\"hoverlabel\":{\"align\":\"left\"},\"paper_bgcolor\":\"white\",\"plot_bgcolor\":\"#E5ECF6\",\"polar\":{\"bgcolor\":\"#E5ECF6\",\"angularaxis\":{\"gridcolor\":\"white\",\"linecolor\":\"white\",\"ticks\":\"\"},\"radialaxis\":{\"gridcolor\":\"white\",\"linecolor\":\"white\",\"ticks\":\"\"}},\"ternary\":{\"bgcolor\":\"#E5ECF6\",\"aaxis\":{\"gridcolor\":\"white\",\"linecolor\":\"white\",\"ticks\":\"\"},\"baxis\":{\"gridcolor\":\"white\",\"linecolor\":\"white\",\"ticks\":\"\"},\"caxis\":{\"gridcolor\":\"white\",\"linecolor\":\"white\",\"ticks\":\"\"}},\"coloraxis\":{\"colorbar\":{\"outlinewidth\":0,\"ticks\":\"\"}},\"colorscale\":{\"sequential\":[[0.0,\"#0d0887\"],[0.1111111111111111,\"#46039f\"],[0.2222222222222222,\"#7201a8\"],[0.3333333333333333,\"#9c179e\"],[0.4444444444444444,\"#bd3786\"],[0.5555555555555556,\"#d8576b\"],[0.6666666666666666,\"#ed7953\"],[0.7777777777777778,\"#fb9f3a\"],[0.8888888888888888,\"#fdca26\"],[1.0,\"#f0f921\"]],\"sequentialminus\":[[0.0,\"#0d0887\"],[0.1111111111111111,\"#46039f\"],[0.2222222222222222,\"#7201a8\"],[0.3333333333333333,\"#9c179e\"],[0.4444444444444444,\"#bd3786\"],[0.5555555555555556,\"#d8576b\"],[0.6666666666666666,\"#ed7953\"],[0.7777777777777778,\"#fb9f3a\"],[0.8888888888888888,\"#fdca26\"],[1.0,\"#f0f921\"]],\"diverging\":[[0,\"#8e0152\"],[0.1,\"#c51b7d\"],[0.2,\"#de77ae\"],[0.3,\"#f1b6da\"],[0.4,\"#fde0ef\"],[0.5,\"#f7f7f7\"],[0.6,\"#e6f5d0\"],[0.7,\"#b8e186\"],[0.8,\"#7fbc41\"],[0.9,\"#4d9221\"],[1,\"#276419\"]]},\"xaxis\":{\"gridcolor\":\"white\",\"linecolor\":\"white\",\"ticks\":\"\",\"title\":{\"standoff\":15},\"zerolinecolor\":\"white\",\"automargin\":true,\"zerolinewidth\":2},\"yaxis\":{\"gridcolor\":\"white\",\"linecolor\":\"white\",\"ticks\":\"\",\"title\":{\"standoff\":15},\"zerolinecolor\":\"white\",\"automargin\":true,\"zerolinewidth\":2},\"scene\":{\"xaxis\":{\"backgroundcolor\":\"#E5ECF6\",\"gridcolor\":\"white\",\"linecolor\":\"white\",\"showbackground\":true,\"ticks\":\"\",\"zerolinecolor\":\"white\",\"gridwidth\":2},\"yaxis\":{\"backgroundcolor\":\"#E5ECF6\",\"gridcolor\":\"white\",\"linecolor\":\"white\",\"showbackground\":true,\"ticks\":\"\",\"zerolinecolor\":\"white\",\"gridwidth\":2},\"zaxis\":{\"backgroundcolor\":\"#E5ECF6\",\"gridcolor\":\"white\",\"linecolor\":\"white\",\"showbackground\":true,\"ticks\":\"\",\"zerolinecolor\":\"white\",\"gridwidth\":2}},\"shapedefaults\":{\"line\":{\"color\":\"#2a3f5f\"}},\"annotationdefaults\":{\"arrowcolor\":\"#2a3f5f\",\"arrowhead\":0,\"arrowwidth\":1},\"geo\":{\"bgcolor\":\"white\",\"landcolor\":\"#E5ECF6\",\"subunitcolor\":\"white\",\"showland\":true,\"showlakes\":true,\"lakecolor\":\"white\"},\"title\":{\"x\":0.05},\"mapbox\":{\"style\":\"light\"}}},\"geo\":{\"domain\":{\"x\":[0.0,1.0],\"y\":[0.0,1.0]},\"center\":{},\"projection\":{\"type\":\"natural earth\"},\"showcountries\":true,\"coastlinecolor\":\"Black\"},\"legend\":{\"title\":{\"text\":\"Categoria\"},\"tracegroupgap\":0,\"itemsizing\":\"constant\"},\"title\":{\"text\":\"Média de Descontos por Categoria e Marca\"}},                        {\"responsive\": true}                    ).then(function(){\n",
              "                            \n",
              "var gd = document.getElementById('cba4d73e-4189-4b79-af76-300b14a009dd');\n",
              "var x = new MutationObserver(function (mutations, observer) {{\n",
              "        var display = window.getComputedStyle(gd).display;\n",
              "        if (!display || display === 'none') {{\n",
              "            console.log([gd, 'removed!']);\n",
              "            Plotly.purge(gd);\n",
              "            observer.disconnect();\n",
              "        }}\n",
              "}});\n",
              "\n",
              "// Listen for the removal of the full notebook cells\n",
              "var notebookContainer = gd.closest('#notebook-container');\n",
              "if (notebookContainer) {{\n",
              "    x.observe(notebookContainer, {childList: true});\n",
              "}}\n",
              "\n",
              "// Listen for the clearing of the current output cell\n",
              "var outputEl = gd.closest('.output');\n",
              "if (outputEl) {{\n",
              "    x.observe(outputEl, {childList: true});\n",
              "}}\n",
              "\n",
              "                        })                };                            </script>        </div>\n",
              "</body>\n",
              "</html>"
            ]
          },
          "metadata": {}
        }
      ]
    }
  ]
}